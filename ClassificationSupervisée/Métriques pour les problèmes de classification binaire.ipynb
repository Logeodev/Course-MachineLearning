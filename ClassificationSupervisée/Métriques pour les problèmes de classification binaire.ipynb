{
 "cells": [
  {
   "cell_type": "markdown",
   "metadata": {},
   "source": [
    "<div style='padding:15px;color:#030aa7;font-size:240%;text-align: center;font-style: italic;font-weight: bold;font-family: Georgia, serif'>Métriques pour une classification binaire</div>\n",
    "\n",
    "<table>\n",
    "<tr>                                                                                   \n",
    "     <th><img src=\"https://raw.githubusercontent.com/rbizoi/MachineLearning/refs/heads/master/images/metriques/donnees_classif.png\" width=\"256\"></th>\n",
    "     <th><img src=\"https://raw.githubusercontent.com/rbizoi/MachineLearning/refs/heads/master/images/metriques/matrice_confusion.png\" width=\"512\"></th>\n",
    " </tr>\n",
    "</table>"
   ]
  },
  {
   "cell_type": "markdown",
   "metadata": {},
   "source": [
    "# <b><div style='padding:15px;background-color:#d8dcd6;color:#030aa7;font-size:120%;text-align: left'>Import librairies</div></b>"
   ]
  },
  {
   "cell_type": "code",
   "execution_count": 1,
   "metadata": {},
   "outputs": [],
   "source": [
    "import pandas as pd, numpy as np, seaborn as sns, warnings, os, sys, time, copy as cp, pickle\n",
    "from datetime import datetime as dt\n",
    "from matplotlib import pyplot as plt\n",
    "\n",
    "import matplotlib.font_manager as fm\n",
    "import plotly.express as px\n",
    "import plotly.graph_objs as go\n",
    "\n",
    "font1 = fm.FontProperties(size=20)\n",
    "font2 = fm.FontProperties(size=24)\n",
    "\n",
    "warnings.filterwarnings(action=\"ignore\")\n",
    "\n",
    "if int(str(sns.__version__).split('.')[1]) > 8 : \n",
    "    plt.style.use('seaborn-v0_8-darkgrid')\n",
    "else:\n",
    "    plt.style.use('seaborn-darkgrid')\n",
    "sns.set(font_scale=2)"
   ]
  },
  {
   "cell_type": "code",
   "execution_count": 2,
   "metadata": {},
   "outputs": [],
   "source": [
    "from matplotlib.colors import ListedColormap\n",
    "from sklearn.model_selection import train_test_split\n",
    "from sklearn.preprocessing import LabelEncoder\n",
    "from sklearn.preprocessing import StandardScaler\n",
    "from sklearn.preprocessing import PowerTransformer\n",
    "from sklearn.preprocessing import QuantileTransformer\n",
    "from sklearn.discriminant_analysis import QuadraticDiscriminantAnalysis\n",
    "\n",
    "from sklearn.neural_network import MLPClassifier\n",
    "from sklearn.neighbors import KNeighborsClassifier\n",
    "from sklearn.linear_model import LogisticRegression, SGDClassifier\n",
    "from sklearn.svm import NuSVC, SVC, OneClassSVM\n",
    "from sklearn.gaussian_process import GaussianProcessClassifier\n",
    "from sklearn.gaussian_process.kernels import ConstantKernel, RBF, RationalQuadratic, ExpSineSquared, DotProduct, Matern, WhiteKernel\n",
    "\n",
    "from sklearn.tree import DecisionTreeClassifier, export_graphviz, plot_tree\n",
    "from sklearn.ensemble import RandomForestClassifier, AdaBoostClassifier, GradientBoostingClassifier\n",
    "from sklearn.naive_bayes import GaussianNB, ComplementNB\n",
    "from lightgbm import LGBMClassifier\n",
    "from xgboost  import XGBClassifier\n",
    "from sklearn.metrics import roc_curve, auc\n",
    "\n",
    "from sklearn.metrics  import make_scorer, confusion_matrix, roc_curve, auc, accuracy_score, log_loss, hamming_loss, \\\n",
    "                             precision_score, recall_score, f1_score, fbeta_score, jaccard_score,  \\\n",
    "                             precision_recall_curve, average_precision_score, precision_recall_fscore_support, matthews_corrcoef"
   ]
  },
  {
   "cell_type": "markdown",
   "metadata": {},
   "source": [
    "# <b><div style='padding:15px;background-color:#d8dcd6;color:#030aa7;font-size:120%;text-align: left'>Outils projet</div></b>"
   ]
  },
  {
   "cell_type": "code",
   "execution_count": 3,
   "metadata": {
    "ExecuteTime": {
     "end_time": "2022-12-07T10:44:01.657883Z",
     "start_time": "2022-12-07T10:44:01.287402Z"
    }
   },
   "outputs": [
    {
     "data": {
      "image/png": "[encoded data removed]",
      "text/plain": [
       "<Figure size 1800x100 with 1 Axes>"
      ]
     },
     "metadata": {},
     "output_type": "display_data"
    }
   ],
   "source": [
    "palette = [ \"#030aa7\", \"#e50000\", \"#d8863b\", \"#005f6a\", \"#6b7c85\", \"#751973\", \n",
    "            \"#0485d1\", \"#ff7855\", \"#fbeeac\", \"#0cb577\", \"#95a3a6\", \"#c071fe\", \n",
    "            \"#d1e5f0\", \"#fddbc7\", \"#ffffcb\", \"#12e193\", \"#d8dcd6\", \"#dfc5fe\", \n",
    "          ]\n",
    "sns.palplot(sns.color_palette(palette))"
   ]
  },
  {
   "cell_type": "code",
   "execution_count": 4,
   "metadata": {
    "ExecuteTime": {
     "end_time": "2022-12-07T10:44:01.673465Z",
     "start_time": "2022-12-07T10:44:01.657883Z"
    }
   },
   "outputs": [],
   "source": [
    "from datetime import datetime as dt\n",
    "\n",
    "repertoireRacine  = '.'\n",
    "nomProjet         = 'Métriques pour une classification binaire'\n",
    "\n",
    "repertoireProjet  = os.path.join(repertoireRacine, nomProjet)\n",
    "repertoireDonnees = os.path.join(repertoireProjet, 'repertoire.donnees')\n",
    "repertoireImages  = os.path.join(repertoireProjet, 'repertoire.images')\n",
    "\n",
    "\n",
    "def controleExistenceRepertoire( repertoire, create_if_needed=True):\n",
    "    \"\"\"Voir si le répertoire existe. S'il n'existe pas il est créé.\"\"\"\n",
    "    path_exists = os.path.exists(repertoire)\n",
    "    if path_exists:\n",
    "        if not os.path.isdir(repertoire):\n",
    "            raise Exception(\"Trouvé le nom  \"+repertoire +\" mais c'est un fichier, pas un répertoire\")\n",
    "            # return False\n",
    "        return True\n",
    "    if create_if_needed:\n",
    "        os.makedirs(repertoire)\n",
    "\n",
    "def sauvegarderImage( fichier):\n",
    "    \"\"\"Enregistrez la figure. Appelez la méthode juste avant plt.show ().\"\"\"\n",
    "    controleExistenceRepertoire(repertoireImages)\n",
    "    plt.savefig(os.path.join(repertoireImages,\n",
    "                             fichier+f\"--{dt.now().strftime('%Y_%m_%d_%H.%M.%S')}.png\"), \n",
    "                             dpi=600, \n",
    "                             bbox_inches='tight')\n",
    "\n",
    "def sauvegarderImageSNS( sns_plot, fichier):\n",
    "    \"\"\"Enregistrez la figure. Appelez la méthode juste avant plt.show ().\"\"\"\n",
    "    controleExistenceRepertoire(repertoireImages)\n",
    "    fig = sns_plot.get_figure()\n",
    "    fig.savefig(os.path.join(repertoireImages,fichier+'.png'))\n",
    "    \n",
    "controleExistenceRepertoire(repertoireProjet);\n",
    "controleExistenceRepertoire(repertoireDonnees);\n",
    "controleExistenceRepertoire(repertoireImages);"
   ]
  },
  {
   "cell_type": "markdown",
   "metadata": {},
   "source": [
    "# <b><div style='padding:15px;background-color:#d8dcd6;color:#030aa7;font-size:120%;text-align: left'>Separation des données pour l'apprentissage</div></b>\n",
    "\n",
    "<img src=\"https://raw.githubusercontent.com/rbizoi/MachineLearning/refs/heads/master/images/classification/echantillonApprentissageTest.png\" width=\"800\">"
   ]
  },
  {
   "cell_type": "code",
   "execution_count": 5,
   "metadata": {},
   "outputs": [],
   "source": [
    "pickle_file = \"dictionnaireChampignons.pickle\"\n",
    "\n",
    "with open(os.path.join(repertoireDonnees,pickle_file),'rb') as fichier:\n",
    "    dictNValeurs = pickle.load(fichier)"
   ]
  },
  {
   "cell_type": "code",
   "execution_count": 6,
   "metadata": {},
   "outputs": [],
   "source": [
    "donnees = pd.read_parquet(os.path.join(repertoireDonnees,'donnees_echantillons.parquet'))"
   ]
  },
  {
   "cell_type": "code",
   "execution_count": 7,
   "metadata": {},
   "outputs": [],
   "source": [
    "X = donnees.drop(columns=['cible','échantillon'])\n",
    "for colonne in X.columns:\n",
    "    X[colonne] = X[colonne].apply(lambda x : dictNValeurs[colonne][x])\n",
    "y = donnees['cible'].apply(lambda x : dictNValeurs['cible'][x])"
   ]
  },
  {
   "cell_type": "code",
   "execution_count": 8,
   "metadata": {},
   "outputs": [],
   "source": [
    "X_train, X_test = X.loc[donnees['échantillon']=='apprentissage',:],\\\n",
    "                  X.loc[donnees['échantillon']=='test',:]\n",
    "y_train, y_test = y[donnees['échantillon']=='apprentissage'],\\\n",
    "                  y[donnees['échantillon']=='test']"
   ]
  },
  {
   "cell_type": "code",
   "execution_count": 9,
   "metadata": {},
   "outputs": [
    {
     "data": {
      "text/html": [
       "<div>\n",
       "<style scoped>\n",
       "    .dataframe tbody tr th:only-of-type {\n",
       "        vertical-align: middle;\n",
       "    }\n",
       "\n",
       "    .dataframe tbody tr th {\n",
       "        vertical-align: top;\n",
       "    }\n",
       "\n",
       "    .dataframe thead th {\n",
       "        text-align: right;\n",
       "    }\n",
       "</style>\n",
       "<table border=\"1\" class=\"dataframe\">\n",
       "  <thead>\n",
       "    <tr style=\"text-align: right;\">\n",
       "      <th></th>\n",
       "      <th>cible</th>\n",
       "      <th>cap_shape</th>\n",
       "      <th>cap_surface</th>\n",
       "      <th>cap_color</th>\n",
       "      <th>bruises</th>\n",
       "      <th>odor</th>\n",
       "      <th>gill_attachment</th>\n",
       "      <th>gill_spacing</th>\n",
       "      <th>gill_size</th>\n",
       "      <th>gill_color</th>\n",
       "      <th>...</th>\n",
       "      <th>stalk_surface_below_ring</th>\n",
       "      <th>stalk_color_above_ring</th>\n",
       "      <th>stalk_color_below_ring</th>\n",
       "      <th>veil_color</th>\n",
       "      <th>ring_number</th>\n",
       "      <th>ring_type</th>\n",
       "      <th>spore_print_color</th>\n",
       "      <th>population</th>\n",
       "      <th>habitat</th>\n",
       "      <th>échantillon</th>\n",
       "    </tr>\n",
       "  </thead>\n",
       "  <tbody>\n",
       "    <tr>\n",
       "      <th>0</th>\n",
       "      <td>toxique</td>\n",
       "      <td>convex</td>\n",
       "      <td>smooth</td>\n",
       "      <td>brown</td>\n",
       "      <td>bruises</td>\n",
       "      <td>pungent</td>\n",
       "      <td>free</td>\n",
       "      <td>close</td>\n",
       "      <td>narrow</td>\n",
       "      <td>black</td>\n",
       "      <td>...</td>\n",
       "      <td>smooth</td>\n",
       "      <td>white</td>\n",
       "      <td>white</td>\n",
       "      <td>white</td>\n",
       "      <td>one</td>\n",
       "      <td>pendant</td>\n",
       "      <td>black</td>\n",
       "      <td>scattered</td>\n",
       "      <td>urban</td>\n",
       "      <td>test</td>\n",
       "    </tr>\n",
       "    <tr>\n",
       "      <th>1</th>\n",
       "      <td>comestible</td>\n",
       "      <td>convex</td>\n",
       "      <td>smooth</td>\n",
       "      <td>yellow</td>\n",
       "      <td>bruises</td>\n",
       "      <td>almond</td>\n",
       "      <td>free</td>\n",
       "      <td>close</td>\n",
       "      <td>broad</td>\n",
       "      <td>black</td>\n",
       "      <td>...</td>\n",
       "      <td>smooth</td>\n",
       "      <td>white</td>\n",
       "      <td>white</td>\n",
       "      <td>white</td>\n",
       "      <td>one</td>\n",
       "      <td>pendant</td>\n",
       "      <td>brown</td>\n",
       "      <td>numerous</td>\n",
       "      <td>grasses</td>\n",
       "      <td>test</td>\n",
       "    </tr>\n",
       "    <tr>\n",
       "      <th>2</th>\n",
       "      <td>comestible</td>\n",
       "      <td>bell</td>\n",
       "      <td>smooth</td>\n",
       "      <td>white</td>\n",
       "      <td>bruises</td>\n",
       "      <td>anise</td>\n",
       "      <td>free</td>\n",
       "      <td>close</td>\n",
       "      <td>broad</td>\n",
       "      <td>brown</td>\n",
       "      <td>...</td>\n",
       "      <td>smooth</td>\n",
       "      <td>white</td>\n",
       "      <td>white</td>\n",
       "      <td>white</td>\n",
       "      <td>one</td>\n",
       "      <td>pendant</td>\n",
       "      <td>brown</td>\n",
       "      <td>numerous</td>\n",
       "      <td>meadows</td>\n",
       "      <td>apprentissage</td>\n",
       "    </tr>\n",
       "    <tr>\n",
       "      <th>3</th>\n",
       "      <td>toxique</td>\n",
       "      <td>convex</td>\n",
       "      <td>scaly</td>\n",
       "      <td>white</td>\n",
       "      <td>bruises</td>\n",
       "      <td>pungent</td>\n",
       "      <td>free</td>\n",
       "      <td>close</td>\n",
       "      <td>narrow</td>\n",
       "      <td>brown</td>\n",
       "      <td>...</td>\n",
       "      <td>smooth</td>\n",
       "      <td>white</td>\n",
       "      <td>white</td>\n",
       "      <td>white</td>\n",
       "      <td>one</td>\n",
       "      <td>pendant</td>\n",
       "      <td>black</td>\n",
       "      <td>scattered</td>\n",
       "      <td>urban</td>\n",
       "      <td>apprentissage</td>\n",
       "    </tr>\n",
       "    <tr>\n",
       "      <th>4</th>\n",
       "      <td>comestible</td>\n",
       "      <td>convex</td>\n",
       "      <td>smooth</td>\n",
       "      <td>gray</td>\n",
       "      <td>no</td>\n",
       "      <td>none</td>\n",
       "      <td>free</td>\n",
       "      <td>crowded</td>\n",
       "      <td>broad</td>\n",
       "      <td>black</td>\n",
       "      <td>...</td>\n",
       "      <td>smooth</td>\n",
       "      <td>white</td>\n",
       "      <td>white</td>\n",
       "      <td>white</td>\n",
       "      <td>one</td>\n",
       "      <td>evanescent</td>\n",
       "      <td>brown</td>\n",
       "      <td>abundant</td>\n",
       "      <td>grasses</td>\n",
       "      <td>apprentissage</td>\n",
       "    </tr>\n",
       "    <tr>\n",
       "      <th>...</th>\n",
       "      <td>...</td>\n",
       "      <td>...</td>\n",
       "      <td>...</td>\n",
       "      <td>...</td>\n",
       "      <td>...</td>\n",
       "      <td>...</td>\n",
       "      <td>...</td>\n",
       "      <td>...</td>\n",
       "      <td>...</td>\n",
       "      <td>...</td>\n",
       "      <td>...</td>\n",
       "      <td>...</td>\n",
       "      <td>...</td>\n",
       "      <td>...</td>\n",
       "      <td>...</td>\n",
       "      <td>...</td>\n",
       "      <td>...</td>\n",
       "      <td>...</td>\n",
       "      <td>...</td>\n",
       "      <td>...</td>\n",
       "      <td>...</td>\n",
       "    </tr>\n",
       "    <tr>\n",
       "      <th>8119</th>\n",
       "      <td>comestible</td>\n",
       "      <td>knobbed</td>\n",
       "      <td>smooth</td>\n",
       "      <td>brown</td>\n",
       "      <td>no</td>\n",
       "      <td>none</td>\n",
       "      <td>attached</td>\n",
       "      <td>close</td>\n",
       "      <td>broad</td>\n",
       "      <td>yellow</td>\n",
       "      <td>...</td>\n",
       "      <td>smooth</td>\n",
       "      <td>orange</td>\n",
       "      <td>orange</td>\n",
       "      <td>orange</td>\n",
       "      <td>one</td>\n",
       "      <td>pendant</td>\n",
       "      <td>buff</td>\n",
       "      <td>clustered</td>\n",
       "      <td>leaves</td>\n",
       "      <td>apprentissage</td>\n",
       "    </tr>\n",
       "    <tr>\n",
       "      <th>8120</th>\n",
       "      <td>comestible</td>\n",
       "      <td>convex</td>\n",
       "      <td>smooth</td>\n",
       "      <td>brown</td>\n",
       "      <td>no</td>\n",
       "      <td>none</td>\n",
       "      <td>attached</td>\n",
       "      <td>close</td>\n",
       "      <td>broad</td>\n",
       "      <td>yellow</td>\n",
       "      <td>...</td>\n",
       "      <td>smooth</td>\n",
       "      <td>orange</td>\n",
       "      <td>orange</td>\n",
       "      <td>brown</td>\n",
       "      <td>one</td>\n",
       "      <td>pendant</td>\n",
       "      <td>buff</td>\n",
       "      <td>several</td>\n",
       "      <td>leaves</td>\n",
       "      <td>test</td>\n",
       "    </tr>\n",
       "    <tr>\n",
       "      <th>8121</th>\n",
       "      <td>comestible</td>\n",
       "      <td>flat</td>\n",
       "      <td>smooth</td>\n",
       "      <td>brown</td>\n",
       "      <td>no</td>\n",
       "      <td>none</td>\n",
       "      <td>attached</td>\n",
       "      <td>close</td>\n",
       "      <td>broad</td>\n",
       "      <td>brown</td>\n",
       "      <td>...</td>\n",
       "      <td>smooth</td>\n",
       "      <td>orange</td>\n",
       "      <td>orange</td>\n",
       "      <td>orange</td>\n",
       "      <td>one</td>\n",
       "      <td>pendant</td>\n",
       "      <td>buff</td>\n",
       "      <td>clustered</td>\n",
       "      <td>leaves</td>\n",
       "      <td>test</td>\n",
       "    </tr>\n",
       "    <tr>\n",
       "      <th>8122</th>\n",
       "      <td>toxique</td>\n",
       "      <td>knobbed</td>\n",
       "      <td>scaly</td>\n",
       "      <td>brown</td>\n",
       "      <td>no</td>\n",
       "      <td>fishy</td>\n",
       "      <td>free</td>\n",
       "      <td>close</td>\n",
       "      <td>narrow</td>\n",
       "      <td>buff</td>\n",
       "      <td>...</td>\n",
       "      <td>silky</td>\n",
       "      <td>white</td>\n",
       "      <td>white</td>\n",
       "      <td>white</td>\n",
       "      <td>one</td>\n",
       "      <td>evanescent</td>\n",
       "      <td>white</td>\n",
       "      <td>several</td>\n",
       "      <td>leaves</td>\n",
       "      <td>apprentissage</td>\n",
       "    </tr>\n",
       "    <tr>\n",
       "      <th>8123</th>\n",
       "      <td>comestible</td>\n",
       "      <td>convex</td>\n",
       "      <td>smooth</td>\n",
       "      <td>brown</td>\n",
       "      <td>no</td>\n",
       "      <td>none</td>\n",
       "      <td>attached</td>\n",
       "      <td>close</td>\n",
       "      <td>broad</td>\n",
       "      <td>yellow</td>\n",
       "      <td>...</td>\n",
       "      <td>smooth</td>\n",
       "      <td>orange</td>\n",
       "      <td>orange</td>\n",
       "      <td>orange</td>\n",
       "      <td>one</td>\n",
       "      <td>pendant</td>\n",
       "      <td>orange</td>\n",
       "      <td>clustered</td>\n",
       "      <td>leaves</td>\n",
       "      <td>apprentissage</td>\n",
       "    </tr>\n",
       "  </tbody>\n",
       "</table>\n",
       "<p>8124 rows × 23 columns</p>\n",
       "</div>"
      ],
      "text/plain": [
       "           cible cap_shape cap_surface cap_color  bruises     odor  \\\n",
       "0        toxique    convex      smooth     brown  bruises  pungent   \n",
       "1     comestible    convex      smooth    yellow  bruises   almond   \n",
       "2     comestible      bell      smooth     white  bruises    anise   \n",
       "3        toxique    convex       scaly     white  bruises  pungent   \n",
       "4     comestible    convex      smooth      gray       no     none   \n",
       "...          ...       ...         ...       ...      ...      ...   \n",
       "8119  comestible   knobbed      smooth     brown       no     none   \n",
       "8120  comestible    convex      smooth     brown       no     none   \n",
       "8121  comestible      flat      smooth     brown       no     none   \n",
       "8122     toxique   knobbed       scaly     brown       no    fishy   \n",
       "8123  comestible    convex      smooth     brown       no     none   \n",
       "\n",
       "     gill_attachment gill_spacing gill_size gill_color  ...  \\\n",
       "0               free        close    narrow      black  ...   \n",
       "1               free        close     broad      black  ...   \n",
       "2               free        close     broad      brown  ...   \n",
       "3               free        close    narrow      brown  ...   \n",
       "4               free      crowded     broad      black  ...   \n",
       "...              ...          ...       ...        ...  ...   \n",
       "8119        attached        close     broad     yellow  ...   \n",
       "8120        attached        close     broad     yellow  ...   \n",
       "8121        attached        close     broad      brown  ...   \n",
       "8122            free        close    narrow       buff  ...   \n",
       "8123        attached        close     broad     yellow  ...   \n",
       "\n",
       "     stalk_surface_below_ring stalk_color_above_ring stalk_color_below_ring  \\\n",
       "0                      smooth                  white                  white   \n",
       "1                      smooth                  white                  white   \n",
       "2                      smooth                  white                  white   \n",
       "3                      smooth                  white                  white   \n",
       "4                      smooth                  white                  white   \n",
       "...                       ...                    ...                    ...   \n",
       "8119                   smooth                 orange                 orange   \n",
       "8120                   smooth                 orange                 orange   \n",
       "8121                   smooth                 orange                 orange   \n",
       "8122                    silky                  white                  white   \n",
       "8123                   smooth                 orange                 orange   \n",
       "\n",
       "     veil_color ring_number   ring_type spore_print_color population  habitat  \\\n",
       "0         white         one     pendant             black  scattered    urban   \n",
       "1         white         one     pendant             brown   numerous  grasses   \n",
       "2         white         one     pendant             brown   numerous  meadows   \n",
       "3         white         one     pendant             black  scattered    urban   \n",
       "4         white         one  evanescent             brown   abundant  grasses   \n",
       "...         ...         ...         ...               ...        ...      ...   \n",
       "8119     orange         one     pendant              buff  clustered   leaves   \n",
       "8120      brown         one     pendant              buff    several   leaves   \n",
       "8121     orange         one     pendant              buff  clustered   leaves   \n",
       "8122      white         one  evanescent             white    several   leaves   \n",
       "8123     orange         one     pendant            orange  clustered   leaves   \n",
       "\n",
       "        échantillon  \n",
       "0              test  \n",
       "1              test  \n",
       "2     apprentissage  \n",
       "3     apprentissage  \n",
       "4     apprentissage  \n",
       "...             ...  \n",
       "8119  apprentissage  \n",
       "8120           test  \n",
       "8121           test  \n",
       "8122  apprentissage  \n",
       "8123  apprentissage  \n",
       "\n",
       "[8124 rows x 23 columns]"
      ]
     },
     "execution_count": 9,
     "metadata": {},
     "output_type": "execute_result"
    }
   ],
   "source": [
    "donnees"
   ]
  },
  {
   "cell_type": "code",
   "execution_count": 10,
   "metadata": {},
   "outputs": [
    {
     "data": {
      "image/png": "[encoded data removed]",
      "text/plain": [
       "<Figure size 1600x1000 with 1 Axes>"
      ]
     },
     "metadata": {},
     "output_type": "display_data"
    }
   ],
   "source": [
    "plt.figure(figsize=(16,10))\n",
    "graph = sns.countplot(x='cible',\n",
    "                      hue='échantillon',\n",
    "                      data=donnees.sort_values(['cible','échantillon']), \n",
    "                      palette=palette[:2]\n",
    "                     );\n",
    "\n",
    "for i,nb in enumerate(donnees.groupby(['cible','échantillon']).cible.count()):\n",
    "    if i%2 == 0 : val = i/2\n",
    "    delta =  val - 0.2 +(i%2)*0.4\n",
    "    graph.text(\n",
    "                delta ,\n",
    "                600,\n",
    "                nb,\n",
    "                color='black',\n",
    "                bbox=dict(boxstyle='round', facecolor='white', alpha=0.6),\n",
    "                verticalalignment='center',\n",
    "                horizontalalignment='center',\n",
    "               )\n",
    "\n",
    "affichage = donnees.groupby('échantillon').agg({'cible':'count'})\n",
    "graph.text(\n",
    "                0.15 ,\n",
    "                2500,\n",
    "                f\"apprentissage = {affichage.loc['apprentissage','cible']}\",\n",
    "                color=\"#030aa7\",\n",
    "                # rotation='vertical',\n",
    "#                 size='large',\n",
    "                fontsize='large',\n",
    "                bbox=dict(boxstyle='round', facecolor='white', alpha=0.6),\n",
    "                verticalalignment='center',\n",
    "                horizontalalignment='left',\n",
    "               )\n",
    "graph.text(\n",
    "                0.15 ,\n",
    "                2000 ,\n",
    "                f\"test = {affichage.loc['test','cible']}\",\n",
    "                color=\"#e50000\",\n",
    "                # rotation='vertical',\n",
    "#                 size='large',\n",
    "                fontsize='large',\n",
    "                bbox=dict(boxstyle='round', facecolor='white', alpha=0.6),\n",
    "                verticalalignment='center',\n",
    "                horizontalalignment='left',\n",
    "               )\n",
    "\n",
    "graph.set_ylabel('occurrences');\n",
    "graph.set_xlabel('');\n",
    "graph.legend(bbox_to_anchor=(1.02, 1), loc='upper left', borderaxespad=0);"
   ]
  },
  {
   "cell_type": "markdown",
   "metadata": {},
   "source": [
    "# <b><div style='padding:15px;background-color:#d8dcd6;color:#030aa7;font-size:120%;text-align: left'>Déclaration du classificateur</div></b>"
   ]
  },
  {
   "cell_type": "code",
   "execution_count": 11,
   "metadata": {
    "ExecuteTime": {
     "end_time": "2022-12-07T10:45:09.746452Z",
     "start_time": "2022-12-07T10:45:09.730825Z"
    }
   },
   "outputs": [
    {
     "name": "stdout",
     "output_type": "stream",
     "text": [
      " \n",
      "accuracy                   = 0.9594 \n",
      "precision                  = 0.9443 \n",
      "sensibilite                = 0.9732 \n",
      "logloss                    = 1.4639 \n",
      "hammingloss                = 0.0406 \n",
      "jaccard                    = 0.9203 \n",
      "Matthews corr. coefficient = 0.9192 \n",
      "f1                         = 0.9585 \n",
      "fbeta05                    = 0.9499 \n",
      "fbeta1                     = 0.9585 \n",
      "fbeta2                     = 0.9673 \n",
      "\n"
     ]
    }
   ],
   "source": [
    "classificateur = LogisticRegression(\n",
    "                C=0.81113,\n",
    "                max_iter=800,\n",
    "                penalty='l2',\n",
    "                solver='lbfgs',\n",
    "                n_jobs=-1\n",
    "            )\n",
    "\n",
    "classificateur.fit(X_train, y_train)\n",
    "\n",
    "probabilites = classificateur.predict_proba(X_test)\n",
    "predictions  = classificateur.predict(X_test) # 50%\n",
    "observations = y_test.ravel()\n",
    "\n",
    "accuracy     = accuracy_score (observations,predictions)\n",
    "precision    = precision_score(observations,predictions)\n",
    "sensibilite  = recall_score   (observations,predictions)\n",
    "logloss      = log_loss       (observations,predictions)\n",
    "hammingloss  = hamming_loss   (observations,predictions)\n",
    "jaccard      = jaccard_score  (observations,predictions)\n",
    "matthews     = matthews_corrcoef(observations,predictions)\n",
    "f1           = f1_score       (observations,predictions)\n",
    "fbeta05      = fbeta_score    (observations,predictions, beta=0.5)\n",
    "fbeta1       = fbeta_score    (observations,predictions, beta=1)\n",
    "fbeta2       = fbeta_score    (observations,predictions, beta=2)\n",
    "\n",
    "print(f\"\"\" \n",
    "accuracy                   = {accuracy:0.4f} \n",
    "precision                  = {precision:0.4f} \n",
    "sensibilite                = {sensibilite :0.4f} \n",
    "logloss                    = {logloss:0.4f} \n",
    "hammingloss                = {hammingloss:0.4f} \n",
    "jaccard                    = {jaccard:0.4f} \n",
    "Matthews corr. coefficient = {matthews:0.4f} \n",
    "f1                         = {f1:0.4f} \n",
    "fbeta05                    = {fbeta05:0.4f} \n",
    "fbeta1                     = {fbeta1:0.4f} \n",
    "fbeta2                     = {fbeta2:0.4f} \n",
    "\"\"\")"
   ]
  },
  {
   "cell_type": "code",
   "execution_count": 12,
   "metadata": {},
   "outputs": [
    {
     "data": {
      "text/html": [
       "<div>\n",
       "<style scoped>\n",
       "    .dataframe tbody tr th:only-of-type {\n",
       "        vertical-align: middle;\n",
       "    }\n",
       "\n",
       "    .dataframe tbody tr th {\n",
       "        vertical-align: top;\n",
       "    }\n",
       "\n",
       "    .dataframe thead th {\n",
       "        text-align: right;\n",
       "    }\n",
       "</style>\n",
       "<table border=\"1\" class=\"dataframe\">\n",
       "  <thead>\n",
       "    <tr style=\"text-align: right;\">\n",
       "      <th></th>\n",
       "      <th></th>\n",
       "      <th>Precision</th>\n",
       "      <th>Sensibilite</th>\n",
       "      <th>F1</th>\n",
       "      <th>Support</th>\n",
       "    </tr>\n",
       "  </thead>\n",
       "  <tbody>\n",
       "    <tr>\n",
       "      <th>comestible</th>\n",
       "      <th>0 / -</th>\n",
       "      <td>0.974312</td>\n",
       "      <td>0.946524</td>\n",
       "      <td>0.960217</td>\n",
       "      <td>1683</td>\n",
       "    </tr>\n",
       "    <tr>\n",
       "      <th>toxique</th>\n",
       "      <th>1 / +</th>\n",
       "      <td>0.944272</td>\n",
       "      <td>0.973197</td>\n",
       "      <td>0.958517</td>\n",
       "      <td>1567</td>\n",
       "    </tr>\n",
       "  </tbody>\n",
       "</table>\n",
       "</div>"
      ],
      "text/plain": [
       "                  Precision  Sensibilite        F1  Support\n",
       "comestible 0 / -   0.974312     0.946524  0.960217     1683\n",
       "toxique    1 / +   0.944272     0.973197  0.958517     1567"
      ]
     },
     "execution_count": 12,
     "metadata": {},
     "output_type": "execute_result"
    }
   ],
   "source": [
    "precision,sensibilite,f1,support = precision_recall_fscore_support(observations,predictions, beta=1)\n",
    "\n",
    "affichage = pd.DataFrame({'Precision':precision,'Sensibilite':sensibilite,'F1':f1,'Support':support})\n",
    "affichage.index = pd.Index([('comestible','0 / -'),('toxique','1 / +')])\n",
    "affichage"
   ]
  },
  {
   "cell_type": "markdown",
   "metadata": {},
   "source": [
    "## <b><div style='padding:15px;background-color:#d8dcd6;color:#030aa7;font-size:120%;text-align: left'>Tableau des résultats</div></b>"
   ]
  },
  {
   "cell_type": "code",
   "execution_count": 13,
   "metadata": {
    "ExecuteTime": {
     "end_time": "2022-12-07T10:45:24.119737Z",
     "start_time": "2022-12-07T10:45:24.088575Z"
    }
   },
   "outputs": [
    {
     "data": {
      "text/html": [
       "<div>\n",
       "<style scoped>\n",
       "    .dataframe tbody tr th:only-of-type {\n",
       "        vertical-align: middle;\n",
       "    }\n",
       "\n",
       "    .dataframe tbody tr th {\n",
       "        vertical-align: top;\n",
       "    }\n",
       "\n",
       "    .dataframe thead th {\n",
       "        text-align: right;\n",
       "    }\n",
       "</style>\n",
       "<table border=\"1\" class=\"dataframe\">\n",
       "  <thead>\n",
       "    <tr style=\"text-align: right;\">\n",
       "      <th></th>\n",
       "      <th>Probabilite</th>\n",
       "      <th>Observation</th>\n",
       "      <th>Prediction</th>\n",
       "    </tr>\n",
       "  </thead>\n",
       "  <tbody>\n",
       "    <tr>\n",
       "      <th>3090</th>\n",
       "      <td>0.999986</td>\n",
       "      <td>1</td>\n",
       "      <td>1</td>\n",
       "    </tr>\n",
       "    <tr>\n",
       "      <th>2952</th>\n",
       "      <td>0.999984</td>\n",
       "      <td>1</td>\n",
       "      <td>1</td>\n",
       "    </tr>\n",
       "    <tr>\n",
       "      <th>3000</th>\n",
       "      <td>0.999982</td>\n",
       "      <td>1</td>\n",
       "      <td>1</td>\n",
       "    </tr>\n",
       "    <tr>\n",
       "      <th>2330</th>\n",
       "      <td>0.999938</td>\n",
       "      <td>0</td>\n",
       "      <td>1</td>\n",
       "    </tr>\n",
       "    <tr>\n",
       "      <th>2157</th>\n",
       "      <td>0.999928</td>\n",
       "      <td>0</td>\n",
       "      <td>1</td>\n",
       "    </tr>\n",
       "    <tr>\n",
       "      <th>2057</th>\n",
       "      <td>0.999923</td>\n",
       "      <td>0</td>\n",
       "      <td>1</td>\n",
       "    </tr>\n",
       "    <tr>\n",
       "      <th>2402</th>\n",
       "      <td>0.999920</td>\n",
       "      <td>0</td>\n",
       "      <td>1</td>\n",
       "    </tr>\n",
       "    <tr>\n",
       "      <th>2250</th>\n",
       "      <td>0.999914</td>\n",
       "      <td>0</td>\n",
       "      <td>1</td>\n",
       "    </tr>\n",
       "    <tr>\n",
       "      <th>1539</th>\n",
       "      <td>0.999911</td>\n",
       "      <td>1</td>\n",
       "      <td>1</td>\n",
       "    </tr>\n",
       "    <tr>\n",
       "      <th>1403</th>\n",
       "      <td>0.999896</td>\n",
       "      <td>1</td>\n",
       "      <td>1</td>\n",
       "    </tr>\n",
       "  </tbody>\n",
       "</table>\n",
       "</div>"
      ],
      "text/plain": [
       "      Probabilite  Observation  Prediction\n",
       "3090     0.999986            1           1\n",
       "2952     0.999984            1           1\n",
       "3000     0.999982            1           1\n",
       "2330     0.999938            0           1\n",
       "2157     0.999928            0           1\n",
       "2057     0.999923            0           1\n",
       "2402     0.999920            0           1\n",
       "2250     0.999914            0           1\n",
       "1539     0.999911            1           1\n",
       "1403     0.999896            1           1"
      ]
     },
     "execution_count": 13,
     "metadata": {},
     "output_type": "execute_result"
    }
   ],
   "source": [
    "dfROC = pd.DataFrame({'Probabilite':probabilites[:,1],\n",
    "                      'Observation':observations,\n",
    "                      'Prediction':predictions\n",
    "                    }).sort_values(by='Probabilite',ascending=False)\n",
    "dfROC.head(10)"
   ]
  },
  {
   "cell_type": "code",
   "execution_count": 14,
   "metadata": {
    "ExecuteTime": {
     "end_time": "2022-12-07T10:45:28.447756Z",
     "start_time": "2022-12-07T10:45:28.416609Z"
    },
    "scrolled": true
   },
   "outputs": [
    {
     "data": {
      "text/html": [
       "<div>\n",
       "<style scoped>\n",
       "    .dataframe tbody tr th:only-of-type {\n",
       "        vertical-align: middle;\n",
       "    }\n",
       "\n",
       "    .dataframe tbody tr th {\n",
       "        vertical-align: top;\n",
       "    }\n",
       "\n",
       "    .dataframe thead th {\n",
       "        text-align: right;\n",
       "    }\n",
       "</style>\n",
       "<table border=\"1\" class=\"dataframe\">\n",
       "  <thead>\n",
       "    <tr style=\"text-align: right;\">\n",
       "      <th></th>\n",
       "      <th>comestible</th>\n",
       "      <th>toxique</th>\n",
       "    </tr>\n",
       "  </thead>\n",
       "  <tbody>\n",
       "    <tr>\n",
       "      <th>3090</th>\n",
       "      <td>0.000014</td>\n",
       "      <td>0.999986</td>\n",
       "    </tr>\n",
       "    <tr>\n",
       "      <th>2952</th>\n",
       "      <td>0.000016</td>\n",
       "      <td>0.999984</td>\n",
       "    </tr>\n",
       "    <tr>\n",
       "      <th>3000</th>\n",
       "      <td>0.000018</td>\n",
       "      <td>0.999982</td>\n",
       "    </tr>\n",
       "    <tr>\n",
       "      <th>2330</th>\n",
       "      <td>0.000062</td>\n",
       "      <td>0.999938</td>\n",
       "    </tr>\n",
       "    <tr>\n",
       "      <th>2157</th>\n",
       "      <td>0.000072</td>\n",
       "      <td>0.999928</td>\n",
       "    </tr>\n",
       "  </tbody>\n",
       "</table>\n",
       "</div>"
      ],
      "text/plain": [
       "      comestible   toxique\n",
       "3090    0.000014  0.999986\n",
       "2952    0.000016  0.999984\n",
       "3000    0.000018  0.999982\n",
       "2330    0.000062  0.999938\n",
       "2157    0.000072  0.999928"
      ]
     },
     "execution_count": 14,
     "metadata": {},
     "output_type": "execute_result"
    }
   ],
   "source": [
    "pd.set_option('display.max_columns', None)\n",
    "pd.set_option('display.max_rows', None)\n",
    "pd.DataFrame(probabilites,columns=['comestible', \n",
    "                             'toxique']).sort_values(by ='toxique',ascending=False).head()"
   ]
  },
  {
   "cell_type": "markdown",
   "metadata": {},
   "source": [
    "# <b><div style='padding:15px;background-color:#d8dcd6;color:#030aa7;font-size:120%;text-align: left'>Calculs des métriques</div></b>\n",
    "<table>\n",
    "    <tr>                                                                                   \n",
    "         <th><b><div style='padding:15px;color:#030aa7;font-size:200%;text-align: center'></div></b></th>\n",
    "         <th><b><div style='padding:15px;color:#030aa7;font-size:200%;text-align: center'>Matrice de confusion</div></b></th>\n",
    "    </tr>\n",
    "    <tr>                                                                                   \n",
    "         <th>\n",
    "                 <img src=\"https://raw.githubusercontent.com/rbizoi/MachineLearning/refs/heads/master/images/metriques/donnees_classif.png\" width=\"512\">\n",
    "             </th>\n",
    "             <th>\n",
    "                 <img src=\"https://raw.githubusercontent.com/rbizoi/MachineLearning/refs/heads/master/images/metriques/matrice_confusion.png\">\n",
    "         </th>\n",
    "    </tr>\n",
    "</table>    \n",
    "\n"
   ]
  },
  {
   "cell_type": "code",
   "execution_count": 15,
   "metadata": {},
   "outputs": [
    {
     "data": {
      "text/html": [
       "<div>\n",
       "<style scoped>\n",
       "    .dataframe tbody tr th:only-of-type {\n",
       "        vertical-align: middle;\n",
       "    }\n",
       "\n",
       "    .dataframe tbody tr th {\n",
       "        vertical-align: top;\n",
       "    }\n",
       "\n",
       "    .dataframe thead tr th {\n",
       "        text-align: left;\n",
       "    }\n",
       "</style>\n",
       "<table border=\"1\" class=\"dataframe\">\n",
       "  <thead>\n",
       "    <tr>\n",
       "      <th></th>\n",
       "      <th></th>\n",
       "      <th colspan=\"3\" halign=\"left\">Observations</th>\n",
       "    </tr>\n",
       "    <tr>\n",
       "      <th></th>\n",
       "      <th></th>\n",
       "      <th>1 / +</th>\n",
       "      <th>0 / -</th>\n",
       "      <th>Total</th>\n",
       "    </tr>\n",
       "  </thead>\n",
       "  <tbody>\n",
       "    <tr>\n",
       "      <th rowspan=\"3\" valign=\"top\">Predictions</th>\n",
       "      <th>1 / +</th>\n",
       "      <td>1525</td>\n",
       "      <td>90</td>\n",
       "      <td>1615</td>\n",
       "    </tr>\n",
       "    <tr>\n",
       "      <th>0 / -</th>\n",
       "      <td>42</td>\n",
       "      <td>1593</td>\n",
       "      <td>1635</td>\n",
       "    </tr>\n",
       "    <tr>\n",
       "      <th>Total</th>\n",
       "      <td>1567</td>\n",
       "      <td>1683</td>\n",
       "      <td>3250</td>\n",
       "    </tr>\n",
       "  </tbody>\n",
       "</table>\n",
       "</div>"
      ],
      "text/plain": [
       "                  Observations            \n",
       "                         1 / + 0 / - Total\n",
       "Predictions 1 / +         1525    90  1615\n",
       "            0 / -           42  1593  1635\n",
       "            Total         1567  1683  3250"
      ]
     },
     "execution_count": 15,
     "metadata": {},
     "output_type": "execute_result"
    }
   ],
   "source": [
    "affichage = pd.crosstab(dfROC.Prediction,dfROC.Observation,margins=True,margins_name='Total')\n",
    "affichage = affichage[[1,0,'Total']]\n",
    "affichage = affichage.iloc[[1,0,2],:]\n",
    "affichage.columns = pd.Index([('Observations','1 / +'),('Observations','0 / -'),('Observations','Total')])\n",
    "affichage.index = pd.Index([('Predictions','1 / +'),('Predictions','0 / -'),('Predictions','Total')])\n",
    "affichage"
   ]
  },
  {
   "cell_type": "markdown",
   "metadata": {},
   "source": [
    "## <b><div style='padding:15px;background-color:#d8dcd6;color:#030aa7;font-size:120%;text-align: left'>Composants du jeu de données</div></b>\n",
    "\n",
    "<table>\n",
    "<tr>                                                                                   \n",
    "     <th>\n",
    "            <b><div style='color:#030aa7;font-size:120%;text-align: left'>Vrais Positifs VP</div></b>\n",
    "            <b><div style='color:#030aa7;font-size:120%;text-align: left'>Vrais Négatifs VN</div></b>\n",
    "            <b><div style='color:#030aa7;font-size:120%;text-align: left'>Faux Positifs</div></b>\n",
    "            <b><div style='color:#030aa7;font-size:120%;text-align: left'>Faux Négatifs</div></b>\n",
    "     </th>\n",
    "     <th><img src=\"https://raw.githubusercontent.com/rbizoi/MachineLearning/refs/heads/master/images/metriques/donnees_classif.png\" width=\"256\"></th>\n",
    " </tr>\n",
    "</table>\n",
    "\n",
    "\n"
   ]
  },
  {
   "cell_type": "code",
   "execution_count": 16,
   "metadata": {},
   "outputs": [
    {
     "data": {
      "text/html": [
       "<div>\n",
       "<style scoped>\n",
       "    .dataframe tbody tr th:only-of-type {\n",
       "        vertical-align: middle;\n",
       "    }\n",
       "\n",
       "    .dataframe tbody tr th {\n",
       "        vertical-align: top;\n",
       "    }\n",
       "\n",
       "    .dataframe thead tr th {\n",
       "        text-align: left;\n",
       "    }\n",
       "</style>\n",
       "<table border=\"1\" class=\"dataframe\">\n",
       "  <thead>\n",
       "    <tr>\n",
       "      <th></th>\n",
       "      <th></th>\n",
       "      <th colspan=\"3\" halign=\"left\">Observations</th>\n",
       "    </tr>\n",
       "    <tr>\n",
       "      <th></th>\n",
       "      <th></th>\n",
       "      <th>1 / +</th>\n",
       "      <th>0 / -</th>\n",
       "      <th>Total</th>\n",
       "    </tr>\n",
       "  </thead>\n",
       "  <tbody>\n",
       "    <tr>\n",
       "      <th rowspan=\"3\" valign=\"top\">Predictions</th>\n",
       "      <th>1 / +</th>\n",
       "      <td>1525</td>\n",
       "      <td>90</td>\n",
       "      <td>1615</td>\n",
       "    </tr>\n",
       "    <tr>\n",
       "      <th>0 / -</th>\n",
       "      <td>42</td>\n",
       "      <td>1593</td>\n",
       "      <td>1635</td>\n",
       "    </tr>\n",
       "    <tr>\n",
       "      <th>Total</th>\n",
       "      <td>1567</td>\n",
       "      <td>1683</td>\n",
       "      <td>3250</td>\n",
       "    </tr>\n",
       "  </tbody>\n",
       "</table>\n",
       "</div>"
      ],
      "text/plain": [
       "                  Observations            \n",
       "                         1 / + 0 / - Total\n",
       "Predictions 1 / +         1525    90  1615\n",
       "            0 / -           42  1593  1635\n",
       "            Total         1567  1683  3250"
      ]
     },
     "execution_count": 16,
     "metadata": {},
     "output_type": "execute_result"
    }
   ],
   "source": [
    "affichage"
   ]
  },
  {
   "cell_type": "code",
   "execution_count": 17,
   "metadata": {},
   "outputs": [
    {
     "name": "stdout",
     "output_type": "stream",
     "text": [
      "\n",
      "vraisPositifs = 1525\tfauxPositifs  = 90\n",
      "fauxNegatifs  = 42\tvraisNegatifs = 1593\n"
     ]
    }
   ],
   "source": [
    "vraisPositifs = affichage.loc[('Predictions','1 / +'),('Observations','1 / +')]\n",
    "fauxPositifs  = affichage.loc[('Predictions','1 / +'),('Observations','0 / -')]\n",
    "fauxNegatifs  = affichage.loc[('Predictions','0 / -'),('Observations','1 / +')]\n",
    "vraisNegatifs = affichage.loc[('Predictions','0 / -'),('Observations','0 / -')]\n",
    "\n",
    "print(f\"\"\"\n",
    "vraisPositifs = {vraisPositifs}\\tfauxPositifs  = {fauxPositifs}\n",
    "fauxNegatifs  = {fauxNegatifs}\\tvraisNegatifs = {vraisNegatifs}\"\"\")"
   ]
  },
  {
   "cell_type": "markdown",
   "metadata": {},
   "source": [
    "## <b><div style='padding:15px;background-color:#d8dcd6;color:#030aa7;font-size:120%;text-align: left'>Prévalence</div></b>\n",
    "<b><div style='padding:15px;color:#030aa7;font-size:120%;text-align: left'>Le rapport entre l'ensemble des cas positifs présents et l'ensemble de l’échantillon de donnée.</div></b>\n",
    "\n",
    "<table>\n",
    "    <tr>                                                                                   \n",
    "         <th>\n",
    "                 <img src=\"https://raw.githubusercontent.com/rbizoi/MachineLearning/refs/heads/master/images/metriques/donnees_classif.png\" width=\"256\">\n",
    "         </th>        \n",
    "         <th>\n",
    "             <b><div style='padding:15px;color:#030aa7;font-size:200%;text-align: left'>Prévalence = $\\frac{VP + FP}{VP + FP + VN + FN}$</div></b>\n",
    "         </th>\n",
    "             <th>\n",
    "                 <img src=\"https://raw.githubusercontent.com/rbizoi/MachineLearning/refs/heads/master/images/metriques/prevalence.png\" width=\"64\">\n",
    "         </th>\n",
    "    </tr>\n",
    "</table>  \n",
    "\n"
   ]
  },
  {
   "cell_type": "code",
   "execution_count": 18,
   "metadata": {},
   "outputs": [
    {
     "data": {
      "text/html": [
       "<div>\n",
       "<style scoped>\n",
       "    .dataframe tbody tr th:only-of-type {\n",
       "        vertical-align: middle;\n",
       "    }\n",
       "\n",
       "    .dataframe tbody tr th {\n",
       "        vertical-align: top;\n",
       "    }\n",
       "\n",
       "    .dataframe thead tr th {\n",
       "        text-align: left;\n",
       "    }\n",
       "</style>\n",
       "<table border=\"1\" class=\"dataframe\">\n",
       "  <thead>\n",
       "    <tr>\n",
       "      <th></th>\n",
       "      <th></th>\n",
       "      <th colspan=\"3\" halign=\"left\">Observations</th>\n",
       "    </tr>\n",
       "    <tr>\n",
       "      <th></th>\n",
       "      <th></th>\n",
       "      <th>1 / +</th>\n",
       "      <th>0 / -</th>\n",
       "      <th>Total</th>\n",
       "    </tr>\n",
       "  </thead>\n",
       "  <tbody>\n",
       "    <tr>\n",
       "      <th rowspan=\"3\" valign=\"top\">Predictions</th>\n",
       "      <th>1 / +</th>\n",
       "      <td>1525</td>\n",
       "      <td>90</td>\n",
       "      <td>1615</td>\n",
       "    </tr>\n",
       "    <tr>\n",
       "      <th>0 / -</th>\n",
       "      <td>42</td>\n",
       "      <td>1593</td>\n",
       "      <td>1635</td>\n",
       "    </tr>\n",
       "    <tr>\n",
       "      <th>Total</th>\n",
       "      <td>1567</td>\n",
       "      <td>1683</td>\n",
       "      <td>3250</td>\n",
       "    </tr>\n",
       "  </tbody>\n",
       "</table>\n",
       "</div>"
      ],
      "text/plain": [
       "                  Observations            \n",
       "                         1 / + 0 / - Total\n",
       "Predictions 1 / +         1525    90  1615\n",
       "            0 / -           42  1593  1635\n",
       "            Total         1567  1683  3250"
      ]
     },
     "execution_count": 18,
     "metadata": {},
     "output_type": "execute_result"
    }
   ],
   "source": [
    "affichage"
   ]
  },
  {
   "cell_type": "code",
   "execution_count": 19,
   "metadata": {},
   "outputs": [
    {
     "name": "stdout",
     "output_type": "stream",
     "text": [
      "Prevalence = 48.22%\n"
     ]
    }
   ],
   "source": [
    "Prevalence = dfROC.Observation.sum()/dfROC.Observation.count()\n",
    "print(f\"Prevalence = {Prevalence*100:0.2f}%\")"
   ]
  },
  {
   "cell_type": "markdown",
   "metadata": {},
   "source": [
    "## <b><div style='padding:15px;background-color:#d8dcd6;color:#030aa7;font-size:120%;text-align: left'>Niveau de précision globale</div></b>\n",
    "<table>\n",
    "    <tr>                                                                                   \n",
    "         <th>\n",
    "             <b><div style='padding:15px;color:#030aa7;font-size:200%;text-align: left'>Accuracy =  $ \\frac{\\sum_{i=0}^{n - 1} 1(Observations = Predictions)}{n}$=$\\frac{VP+VN}{VP+FP+VN+FN}$</div></b>\n",
    "         </th>\n",
    "             <th>\n",
    "                 <img src=\"https://raw.githubusercontent.com/rbizoi/MachineLearning/refs/heads/master/images/metriques/accuracy.png\" width=\"128\">\n",
    "         </th>\n",
    "    </tr>\n",
    "</table>  "
   ]
  },
  {
   "cell_type": "code",
   "execution_count": 20,
   "metadata": {},
   "outputs": [
    {
     "name": "stdout",
     "output_type": "stream",
     "text": [
      "Accuracy = 95.9385%\n"
     ]
    }
   ],
   "source": [
    "Accuracy = (vraisPositifs + vraisNegatifs) / (vraisPositifs + fauxPositifs + fauxNegatifs + vraisNegatifs) \n",
    "print(f\"Accuracy = {Accuracy*100:0.4f}%\")"
   ]
  },
  {
   "cell_type": "markdown",
   "metadata": {},
   "source": [
    "<b><div style='color:#030aa7;font-size:100%;text-align: left'>sklearn.metrics - <a style='color:#e50000'>*accuracy_score*</a></div></b>"
   ]
  },
  {
   "cell_type": "code",
   "execution_count": 21,
   "metadata": {},
   "outputs": [
    {
     "name": "stdout",
     "output_type": "stream",
     "text": [
      "Accuracy = 95.9385%\n"
     ]
    }
   ],
   "source": [
    "Accuracy = accuracy_score(dfROC.Observation, dfROC.Prediction)\n",
    "print(f\"Accuracy = {Accuracy*100:0.4f}%\")"
   ]
  },
  {
   "cell_type": "markdown",
   "metadata": {},
   "source": [
    "## <b><div style='padding:15px;background-color:#d8dcd6;color:#030aa7;font-size:120%;text-align: left'>Sensibilité ou Rappel</div></b>\n",
    "<table>\n",
    "    <tr>                                                                                   \n",
    "         <th>\n",
    "                 <img src=\"https://raw.githubusercontent.com/rbizoi/MachineLearning/refs/heads/master/images/metriques/donnees_classif.png\" width=\"256\">\n",
    "         </th>        \n",
    "         <th>\n",
    "             <b><div style='padding:15px;color:#030aa7;font-size:200%;text-align: left'>Sensibilité = Rappel = $S_e$=  $\\frac{VP}{VP + FN}$</div></b>\n",
    "         </th>\n",
    "             <th>\n",
    "                 <img src=\"https://raw.githubusercontent.com/rbizoi/MachineLearning/refs/heads/master/images/metriques/sensibilite.png\" width=\"64\">\n",
    "         </th>\n",
    "    </tr>\n",
    "</table>  "
   ]
  },
  {
   "cell_type": "code",
   "execution_count": 22,
   "metadata": {},
   "outputs": [
    {
     "name": "stdout",
     "output_type": "stream",
     "text": [
      "Sensibilite = 0.97319719\n"
     ]
    }
   ],
   "source": [
    "Sensibilite = vraisPositifs / (vraisPositifs + fauxNegatifs)\n",
    "print(f\"Sensibilite = {Sensibilite:0.8f}\")"
   ]
  },
  {
   "cell_type": "markdown",
   "metadata": {},
   "source": [
    "<b><div style='color:#030aa7;font-size:100%;text-align: left'>sklearn.metrics - <a style='color:#e50000'>*recall_score*</a></div></b>"
   ]
  },
  {
   "cell_type": "code",
   "execution_count": 23,
   "metadata": {},
   "outputs": [
    {
     "name": "stdout",
     "output_type": "stream",
     "text": [
      "Sensibilite = 0.97319719\n"
     ]
    }
   ],
   "source": [
    "Sensibilite = recall_score(dfROC.Observation, dfROC.Prediction)\n",
    "print(f\"Sensibilite = {Sensibilite:0.8f}\")"
   ]
  },
  {
   "cell_type": "markdown",
   "metadata": {},
   "source": [
    "## <b><div style='padding:15px;background-color:#d8dcd6;color:#030aa7;font-size:120%;text-align: left'>Spécificité</div></b>\n",
    "<table>\n",
    "    <tr>                                                                                   \n",
    "         <th>\n",
    "                 <img src=\"https://raw.githubusercontent.com/rbizoi/MachineLearning/refs/heads/master/images/metriques/donnees_classif.png\" width=\"256\">\n",
    "         </th>        \n",
    "         <th>\n",
    "             <b><div style='padding:15px;color:#030aa7;font-size:200%;text-align: left'>Spécificité = $S_p$ = $\\frac{VN}{FP + VN}$</div></b>\n",
    "         </th>\n",
    "             <th>\n",
    "                 <img src=\"https://raw.githubusercontent.com/rbizoi/MachineLearning/refs/heads/master/images/metriques/specificite.png\" width=\"64\">\n",
    "         </th>\n",
    "    </tr>\n",
    "</table>"
   ]
  },
  {
   "cell_type": "code",
   "execution_count": 24,
   "metadata": {},
   "outputs": [
    {
     "name": "stdout",
     "output_type": "stream",
     "text": [
      "Specificite = 0.94652406\n"
     ]
    }
   ],
   "source": [
    "Specificite       = vraisNegatifs / (fauxPositifs  + vraisNegatifs)\n",
    "print(f\"Specificite = {Specificite:0.8f}\")"
   ]
  },
  {
   "cell_type": "markdown",
   "metadata": {},
   "source": [
    "## <b><div style='padding:15px;background-color:#d8dcd6;color:#030aa7;font-size:120%;text-align: left'>Précision</div></b>\n",
    "<table>\n",
    "    <tr>                                                                                   \n",
    "         <th>\n",
    "                 <img src=\"https://raw.githubusercontent.com/rbizoi/MachineLearning/refs/heads/master/images/metriques/donnees_classif.png\" width=\"256\">\n",
    "         </th>        \n",
    "         <th>\n",
    "             <b><div style='padding:15px;color:#030aa7;font-size:200%;text-align: left'>Précision =  $\\frac{VP}{VP + FP}$</div></b>\n",
    "         </th>\n",
    "             <th>\n",
    "                 <img src=\"https://raw.githubusercontent.com/rbizoi/MachineLearning/refs/heads/master/images/metriques/precision.png\" width=\"64\">\n",
    "         </th>\n",
    "    </tr>\n",
    "</table>"
   ]
  },
  {
   "cell_type": "code",
   "execution_count": 25,
   "metadata": {},
   "outputs": [
    {
     "name": "stdout",
     "output_type": "stream",
     "text": [
      "Precision = 0.94427245\n"
     ]
    }
   ],
   "source": [
    "Precision = vraisPositifs / (vraisPositifs + fauxPositifs) # Precision     = 0 if pd.isna(Precision) else Precision\n",
    "print(f\"Precision = {Precision:0.8f}\")"
   ]
  },
  {
   "cell_type": "markdown",
   "metadata": {},
   "source": [
    "<b><div style='color:#030aa7;font-size:100%;text-align: left'>sklearn.metrics - <a style='color:#e50000'>*precision_score*</a></div></b>"
   ]
  },
  {
   "cell_type": "code",
   "execution_count": 26,
   "metadata": {},
   "outputs": [
    {
     "name": "stdout",
     "output_type": "stream",
     "text": [
      "Precision = 0.94427245\n"
     ]
    }
   ],
   "source": [
    "Precision = precision_score(dfROC.Observation, dfROC.Prediction)\n",
    "print(f\"Precision = {Precision:0.8f}\")"
   ]
  },
  {
   "cell_type": "markdown",
   "metadata": {},
   "source": [
    "## <b><div style='padding:15px;background-color:#d8dcd6;color:#030aa7;font-size:120%;text-align: left'>$F_1$ et $F_\\beta$</div></b>\n",
    "<b><div style='padding:15px;color:#030aa7;font-size:120%;text-align: left'>Le F1 permet de résumer les valeurs de la precision et du Sensibilite(Rappel) en une seule métrique. Mathématiquement, le F1 est défini comme étant la moyenne harmonique de la precision et du Sensibilite(Rappel).</div></b>\n",
    "<table>\n",
    "    <tr>                                                                                   \n",
    "         <th>\n",
    "             <b><div style='padding:15px;color:#030aa7;font-family: Catamaran;font-size:200%;text-align: left'>$F_1$ =  $\\frac{ 2 }{ \\frac{ 1 }{Précision} +\\frac{ 1 }{Sensibilite}}$ = $\\frac{ 2 * VP }{ 2 * VP + FP + FN }$ =  $\\frac{ VP }{ VP + \\frac{1}{2}(FP + FN) }$</div></b>\n",
    "              <b><div style='padding:15px;color:#030aa7;font-family: Catamaran;font-size:200%;text-align: left'>\n",
    "                  $F_\\beta$ = $\\frac{ (1+\\beta^2) * VP }{ (1+\\beta^2) * VP + FP + \\beta^2 * FN }$= $\\frac{ VP }{ VP + \\frac{ 1 }{1+\\beta^2}(FP + \\beta^2 * FN) }$</div></b>\n",
    "         </th>\n",
    "    </tr>\n",
    "</table>\n",
    "<div style='padding:15px;color:#030aa7;font-family: Catamaran;font-size:100%;text-align: left'>Pour $\\beta \\geqslant 1$, on accorde plus d’importance a la Sensibilite(Rappel) (autrement dit aux faux négatifs).</div>\n",
    "<div style='padding:15px;color:#030aa7;font-family: Catamaran;font-size:100%;text-align: left'>Pour $\\beta  \\leqslant 1$, on accorde plus d’importance à la Précision (autrement dit aux faux positifs).</div>\n",
    "<div style='padding:15px;color:#030aa7;font-family: Catamaran;font-size:100%;text-align: left'>Pour $\\beta = 1$, on retrouve le F1-score, qui accorde autant d’importance à la precision qu’au recall.</div>\n"
   ]
  },
  {
   "cell_type": "code",
   "execution_count": 27,
   "metadata": {},
   "outputs": [
    {
     "name": "stdout",
     "output_type": "stream",
     "text": [
      "F1Score = 0.95851666\n"
     ]
    }
   ],
   "source": [
    "F1Score       = 2 * Precision * Sensibilite / (Precision + Sensibilite) # F1Score     = 0 if pd.isna(F1Score) else F1Score\n",
    "print(f\"F1Score = {F1Score:0.8f}\")"
   ]
  },
  {
   "cell_type": "markdown",
   "metadata": {},
   "source": [
    "<b><div style='color:#030aa7;font-size:100%;text-align: left'>sklearn.metrics - <a style='color:#e50000'>*precision_recall_fscore_support*</a></div></b>\n",
    "\n",
    "<div style='color:#030aa7;font-size:100%;text-align: left'>Calculs uniquement pour la modalité : </b>1 / +</b></div>\n"
   ]
  },
  {
   "cell_type": "code",
   "execution_count": 28,
   "metadata": {},
   "outputs": [
    {
     "name": "stdout",
     "output_type": "stream",
     "text": [
      "\n",
      "Precision   = 0.94427245\n",
      "Sensibilite = 0.97319719\n",
      "F1Score     = 0.95851666\n"
     ]
    }
   ],
   "source": [
    "print(f\"\"\"\n",
    "Precision   = {Precision:0.8f}\n",
    "Sensibilite = {Sensibilite:0.8f}\n",
    "F1Score     = {F1Score:0.8f}\"\"\")"
   ]
  },
  {
   "cell_type": "markdown",
   "metadata": {},
   "source": [
    "<div style='color:#030aa7;font-size:100%;text-align: left'>Calculs pour les deux modalitées : </b>0 / - et 1 / +</b></div>"
   ]
  },
  {
   "cell_type": "code",
   "execution_count": 29,
   "metadata": {},
   "outputs": [
    {
     "data": {
      "text/html": [
       "<div>\n",
       "<style scoped>\n",
       "    .dataframe tbody tr th:only-of-type {\n",
       "        vertical-align: middle;\n",
       "    }\n",
       "\n",
       "    .dataframe tbody tr th {\n",
       "        vertical-align: top;\n",
       "    }\n",
       "\n",
       "    .dataframe thead th {\n",
       "        text-align: right;\n",
       "    }\n",
       "</style>\n",
       "<table border=\"1\" class=\"dataframe\">\n",
       "  <thead>\n",
       "    <tr style=\"text-align: right;\">\n",
       "      <th></th>\n",
       "      <th></th>\n",
       "      <th>Precision</th>\n",
       "      <th>Sensibilite</th>\n",
       "      <th>F1</th>\n",
       "      <th>Support</th>\n",
       "    </tr>\n",
       "  </thead>\n",
       "  <tbody>\n",
       "    <tr>\n",
       "      <th>comestible</th>\n",
       "      <th>0 / -</th>\n",
       "      <td>0.974312</td>\n",
       "      <td>0.946524</td>\n",
       "      <td>0.960217</td>\n",
       "      <td>1683</td>\n",
       "    </tr>\n",
       "    <tr>\n",
       "      <th>toxique</th>\n",
       "      <th>1 / +</th>\n",
       "      <td>0.944272</td>\n",
       "      <td>0.973197</td>\n",
       "      <td>0.958517</td>\n",
       "      <td>1567</td>\n",
       "    </tr>\n",
       "  </tbody>\n",
       "</table>\n",
       "</div>"
      ],
      "text/plain": [
       "                  Precision  Sensibilite        F1  Support\n",
       "comestible 0 / -   0.974312     0.946524  0.960217     1683\n",
       "toxique    1 / +   0.944272     0.973197  0.958517     1567"
      ]
     },
     "execution_count": 29,
     "metadata": {},
     "output_type": "execute_result"
    }
   ],
   "source": [
    "precision,sensibilite,f1,support = precision_recall_fscore_support(dfROC.Observation, dfROC.Prediction, beta=1)\n",
    "\n",
    "affichage = pd.DataFrame({'Precision':precision,'Sensibilite':sensibilite,'F1':f1,'Support':support})\n",
    "affichage.index = pd.Index([('comestible','0 / -'),('toxique','1 / +')])\n",
    "affichage"
   ]
  },
  {
   "cell_type": "code",
   "execution_count": 30,
   "metadata": {},
   "outputs": [
    {
     "data": {
      "text/html": [
       "<div>\n",
       "<style scoped>\n",
       "    .dataframe tbody tr th:only-of-type {\n",
       "        vertical-align: middle;\n",
       "    }\n",
       "\n",
       "    .dataframe tbody tr th {\n",
       "        vertical-align: top;\n",
       "    }\n",
       "\n",
       "    .dataframe thead th {\n",
       "        text-align: right;\n",
       "    }\n",
       "</style>\n",
       "<table border=\"1\" class=\"dataframe\">\n",
       "  <thead>\n",
       "    <tr style=\"text-align: right;\">\n",
       "      <th></th>\n",
       "      <th></th>\n",
       "      <th>Precision</th>\n",
       "      <th>Sensibilite</th>\n",
       "      <th>fbeta05</th>\n",
       "      <th>Support</th>\n",
       "    </tr>\n",
       "  </thead>\n",
       "  <tbody>\n",
       "    <tr>\n",
       "      <th>comestible</th>\n",
       "      <th>0 / -</th>\n",
       "      <td>0.974312</td>\n",
       "      <td>0.946524</td>\n",
       "      <td>0.968625</td>\n",
       "      <td>1683</td>\n",
       "    </tr>\n",
       "    <tr>\n",
       "      <th>toxique</th>\n",
       "      <th>1 / +</th>\n",
       "      <td>0.944272</td>\n",
       "      <td>0.973197</td>\n",
       "      <td>0.949919</td>\n",
       "      <td>1567</td>\n",
       "    </tr>\n",
       "  </tbody>\n",
       "</table>\n",
       "</div>"
      ],
      "text/plain": [
       "                  Precision  Sensibilite   fbeta05  Support\n",
       "comestible 0 / -   0.974312     0.946524  0.968625     1683\n",
       "toxique    1 / +   0.944272     0.973197  0.949919     1567"
      ]
     },
     "execution_count": 30,
     "metadata": {},
     "output_type": "execute_result"
    }
   ],
   "source": [
    "precision,sensibilite,f1,support = precision_recall_fscore_support(dfROC.Observation, dfROC.Prediction, beta=0.5)\n",
    "\n",
    "affichage = pd.DataFrame({'Precision':precision,'Sensibilite':sensibilite,'fbeta05':f1,'Support':support})\n",
    "affichage.index = pd.Index([('comestible','0 / -'),('toxique','1 / +')])\n",
    "affichage"
   ]
  },
  {
   "cell_type": "code",
   "execution_count": 31,
   "metadata": {},
   "outputs": [
    {
     "data": {
      "text/html": [
       "<div>\n",
       "<style scoped>\n",
       "    .dataframe tbody tr th:only-of-type {\n",
       "        vertical-align: middle;\n",
       "    }\n",
       "\n",
       "    .dataframe tbody tr th {\n",
       "        vertical-align: top;\n",
       "    }\n",
       "\n",
       "    .dataframe thead th {\n",
       "        text-align: right;\n",
       "    }\n",
       "</style>\n",
       "<table border=\"1\" class=\"dataframe\">\n",
       "  <thead>\n",
       "    <tr style=\"text-align: right;\">\n",
       "      <th></th>\n",
       "      <th></th>\n",
       "      <th>Precision</th>\n",
       "      <th>Sensibilite</th>\n",
       "      <th>fbeta2</th>\n",
       "      <th>Support</th>\n",
       "    </tr>\n",
       "  </thead>\n",
       "  <tbody>\n",
       "    <tr>\n",
       "      <th>comestible</th>\n",
       "      <th>0 / -</th>\n",
       "      <td>0.974312</td>\n",
       "      <td>0.946524</td>\n",
       "      <td>0.951954</td>\n",
       "      <td>1683</td>\n",
       "    </tr>\n",
       "    <tr>\n",
       "      <th>toxique</th>\n",
       "      <th>1 / +</th>\n",
       "      <td>0.944272</td>\n",
       "      <td>0.973197</td>\n",
       "      <td>0.967271</td>\n",
       "      <td>1567</td>\n",
       "    </tr>\n",
       "  </tbody>\n",
       "</table>\n",
       "</div>"
      ],
      "text/plain": [
       "                  Precision  Sensibilite    fbeta2  Support\n",
       "comestible 0 / -   0.974312     0.946524  0.951954     1683\n",
       "toxique    1 / +   0.944272     0.973197  0.967271     1567"
      ]
     },
     "execution_count": 31,
     "metadata": {},
     "output_type": "execute_result"
    }
   ],
   "source": [
    "precision,sensibilite,f1,support = precision_recall_fscore_support(dfROC.Observation, dfROC.Prediction, beta=2)\n",
    "\n",
    "affichage = pd.DataFrame({'Precision':precision,'Sensibilite':sensibilite,'fbeta2':f1,'Support':support})\n",
    "affichage.index = pd.Index([('comestible','0 / -'),('toxique','1 / +')])\n",
    "affichage"
   ]
  },
  {
   "cell_type": "code",
   "execution_count": null,
   "metadata": {},
   "outputs": [],
   "source": []
  }
 ],
 "metadata": {
  "kernelspec": {
   "display_name": "Python 3 (ipykernel)",
   "language": "python",
   "name": "python3"
  },
  "language_info": {
   "codemirror_mode": {
    "name": "ipython",
    "version": 3
   },
   "file_extension": ".py",
   "mimetype": "text/x-python",
   "name": "python",
   "nbconvert_exporter": "python",
   "pygments_lexer": "ipython3",
   "version": "3.10.15"
  },
  "toc": {
   "base_numbering": 1,
   "nav_menu": {},
   "number_sections": true,
   "sideBar": true,
   "skip_h1_title": false,
   "title_cell": "Table of Contents",
   "title_sidebar": "Contents",
   "toc_cell": true,
   "toc_position": {},
   "toc_section_display": true,
   "toc_window_display": false
  }
 },
 "nbformat": 4,
 "nbformat_minor": 4
}
